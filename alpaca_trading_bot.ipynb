{
 "cells": [
  {
   "cell_type": "code",
   "execution_count": 133,
   "id": "69f3eb24-06df-4c50-b6b9-9503f0f81c04",
   "metadata": {},
   "outputs": [],
   "source": [
    "# Initial imports\n",
    "import os\n",
    "import pandas as pd \n",
    "from dotenv import load_dotenv\n",
    "import alpaca_trade_api as tradeapi"
   ]
  },
  {
   "cell_type": "code",
   "execution_count": 134,
   "id": "ed3b8bf6-8f8c-478d-918d-3abd0c7c3bb1",
   "metadata": {},
   "outputs": [
    {
     "data": {
      "text/plain": [
       "True"
      ]
     },
     "execution_count": 134,
     "metadata": {},
     "output_type": "execute_result"
    }
   ],
   "source": [
    "load_dotenv()"
   ]
  },
  {
   "cell_type": "code",
   "execution_count": 135,
   "id": "cd22b0a1-dd43-4a2a-93c0-481d3b92a822",
   "metadata": {},
   "outputs": [],
   "source": [
    "# Set Alpaca API key and secret\n",
    "alpaca_api_key = os.getenv(\"ALPACA_API_KEY\")\n",
    "alpaca_secret_key = os.getenv(\"ALPACA_SECRET_KEY\")\n",
    "base_url = os.getenv(\"BASE_URL\")"
   ]
  },
  {
   "cell_type": "code",
   "execution_count": 136,
   "id": "2b8400e3-d4b5-4d86-b522-7c5116299eb1",
   "metadata": {},
   "outputs": [],
   "source": [
    "# Create the Alpaca API object\n",
    "api = tradeapi.REST(\n",
    "    alpaca_api_key,\n",
    "    alpaca_secret_key,\n",
    "    base_url,\n",
    "    api_version=\"v2\")"
   ]
  },
  {
   "cell_type": "code",
   "execution_count": 137,
   "id": "adab75fb-35db-4796-a4bd-ea42baebb49a",
   "metadata": {},
   "outputs": [],
   "source": [
    "# Set the ticker\n",
    "symbol = \"AAPL\"\n",
    "\n",
    "# Set timeframe to \"1Day\"\n",
    "timeframe = \"1Day\"\n",
    "\n",
    "# Set start and end datetimes of 4 years from Today\n",
    "start_date = pd.Timestamp(\"2016-07-05\", tz=\"America/New_York\").isoformat()\n",
    "end_date = pd.Timestamp(\"2023-07-05\", tz=\"America/New_York\").isoformat()\n",
    "\n",
    "# Get 1 year's worth of historical data for AAPL\n",
    "historical_data = api.get_bars(\n",
    "    symbol,\n",
    "    timeframe,\n",
    "    start=start_date,\n",
    "    end=end_date\n",
    ").df"
   ]
  },
  {
   "cell_type": "code",
   "execution_count": 138,
   "id": "63acec20-4846-4707-8739-96e33670d524",
   "metadata": {},
   "outputs": [],
   "source": [
    "#Define Trading Strategy\n",
    "#Retrieve historical data for a specific stock symbol\n",
    "def trading_strategy():\n",
    "    symbol = 'AAPL'\n",
    "    timeframe = '1D' \n",
    "    limit = 100\n",
    "    historical_data = api.get_bars(\n",
    "    symbol,\n",
    "    timeframe,\n",
    "    start=start_date,\n",
    "    end=end_date\n",
    ").df"
   ]
  },
  {
   "cell_type": "code",
   "execution_count": 139,
   "id": "35d3b971-6e08-451e-ae9e-51c7387ac3d2",
   "metadata": {},
   "outputs": [],
   "source": [
    "#Calculate SMA indicators\n",
    "historical_data['SMA30'] = historical_data['close'].rolling(window=30).mean()\n",
    "historical_data['SMA50'] = historical_data['close'].rolling(window=50).mean() "
   ]
  },
  {
   "cell_type": "code",
   "execution_count": 140,
   "id": "50ee8c20-0e2d-4116-9d90-75973b0455b5",
   "metadata": {},
   "outputs": [],
   "source": [
    "#Determine latest SMA values\n",
    "latest_sma30 = historical_data['SMA30'].iloc[-1]\n",
    "latest_sma50 = historical_data['SMA50'].iloc[-1]"
   ]
  },
  {
   "cell_type": "code",
   "execution_count": 141,
   "id": "eca6be7d-e08b-417f-a5af-170e8c9a92f9",
   "metadata": {},
   "outputs": [],
   "source": [
    "#Check for trading signals\n",
    "#Example: Buy 10 shares of AAPL if SMA30 crosses above SMA 50 \n",
    "if latest_sma30 > latest_sma50:\n",
    "    qty = 10 \n",
    "    side = 'buy'\n",
    "    order_type = 'market'\n",
    "    api.submit_order(\n",
    "    symbol=symbol,\n",
    "    qty=qty,\n",
    "    side=side,\n",
    "    type=order_type,\n",
    "    time_in_force='gtc'\n",
    ")\n",
    "elif latest_sma30 < latest50:\n",
    "    qty = 'all'\n",
    "    side = 'sell'\n",
    "    order_type ='market'\n",
    "    api.submit_order(\n",
    "        symbol=symbol,\n",
    "        qty=qty,\n",
    "        side=side,\n",
    "        type=order_type,\n",
    "        time_in_force='gtc'\n",
    ")"
   ]
  },
  {
   "cell_type": "code",
   "execution_count": 142,
   "id": "64ecd887-1c69-4fe3-aa38-de0e5f124e6a",
   "metadata": {},
   "outputs": [],
   "source": [
    "#Run the trading bot\n",
    "if __name__ == '__main__':\n",
    "    trading_strategy()"
   ]
  }
 ],
 "metadata": {
  "kernelspec": {
   "display_name": "Python 3 (ipykernel)",
   "language": "python",
   "name": "python3"
  },
  "language_info": {
   "codemirror_mode": {
    "name": "ipython",
    "version": 3
   },
   "file_extension": ".py",
   "mimetype": "text/x-python",
   "name": "python",
   "nbconvert_exporter": "python",
   "pygments_lexer": "ipython3",
   "version": "3.7.13"
  }
 },
 "nbformat": 4,
 "nbformat_minor": 5
}
