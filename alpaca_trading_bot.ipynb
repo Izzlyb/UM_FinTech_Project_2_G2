{
 "cells": [
  {
   "cell_type": "code",
   "execution_count": 1,
   "id": "9f53eb0b-1e4a-4ca3-9ddd-8c8d9c90c352",
   "metadata": {},
   "outputs": [],
   "source": [
    "import os\n",
    "import pandas as pd\n",
    "from dotenv import load_dotenv\n",
    "import alpaca_trade_api as tradeapi\n",
    "import tkinter as tk"
   ]
  },
  {
   "cell_type": "code",
   "execution_count": 2,
   "id": "a06ba626-ddfc-48a8-9dee-08ee916f52c5",
   "metadata": {},
   "outputs": [
    {
     "data": {
      "text/plain": [
       "True"
      ]
     },
     "execution_count": 2,
     "metadata": {},
     "output_type": "execute_result"
    }
   ],
   "source": [
    "load_dotenv()"
   ]
  },
  {
   "cell_type": "code",
   "execution_count": 3,
   "id": "90bad447-c3d7-4668-88ac-f8ab09235260",
   "metadata": {},
   "outputs": [],
   "source": [
    "# Set Alpaca API key and secret\n",
    "alpaca_api_key = os.getenv(\"ALPACA_API_KEY\")\n",
    "alpaca_secret_key = os.getenv(\"ALPACA_SECRET_KEY\")\n",
    "base_url = os.getenv(\"BASE_URL\")"
   ]
  },
  {
   "cell_type": "code",
   "execution_count": 4,
   "id": "d4b48c22-f641-42da-a92c-ef53e69d2255",
   "metadata": {},
   "outputs": [],
   "source": [
    "# Create the Alpaca API object\n",
    "api = tradeapi.REST(\n",
    "    alpaca_api_key,\n",
    "    alpaca_secret_key,\n",
    "    base_url,\n",
    "    api_version=\"v2\"\n",
    ")"
   ]
  },
  {
   "cell_type": "code",
   "execution_count": 5,
   "id": "ba0ae70e-8376-4050-b5b2-718c9793ca19",
   "metadata": {},
   "outputs": [],
   "source": [
    "# List of stock tickers\n",
    "symbols = ['PANW', 'LRCX', 'AAPL', 'AMZN', 'MSFT', 'TSLA', 'CAT', 'DE']"
   ]
  },
  {
   "cell_type": "code",
   "execution_count": 6,
   "id": "458ed447-3b7c-4c82-b232-09785e6d8b93",
   "metadata": {},
   "outputs": [],
   "source": [
    "# Get historical data for the stock tickers\n",
    "def get_historical_data(symbol, timeframe, limit):\n",
    "    historical_data = api.get_bars(symbols, timeframe, limit=limit).df\n",
    "    return historical_data[symbols]"
   ]
  },
  {
   "cell_type": "code",
   "execution_count": 7,
   "id": "0ad1e132-5cb7-4e1d-8b2b-7d056d6ab386",
   "metadata": {},
   "outputs": [],
   "source": [
    "# Simple Moving Average (SMA) calculation\n",
    "def calculate_sma(data, period):\n",
    "    return data.rolling(window=period).mean()"
   ]
  },
  {
   "cell_type": "code",
   "execution_count": 8,
   "id": "309cc143-bbc4-4251-ba14-030a725d8977",
   "metadata": {},
   "outputs": [],
   "source": [
    "# Trading strategy based on SMA30 and SMA50\n",
    "def trading_strategy(data):\n",
    "    data['SMA30'] = calculate_sma(data['close'], 30)\n",
    "    data['SMA50'] = calculate_sma(data['close'], 50)\n",
    "    # Trading signals\n",
    "    data['signal'] = 0\n",
    "    data.loc[data['SMA30'] > data['SMA50'], 'signal'] = 1\n",
    "    data.loc[data['SMA30'] < data['SMA50'], 'signal'] = -1\n",
    "\n",
    "    return data"
   ]
  },
  {
   "cell_type": "code",
   "execution_count": 9,
   "id": "d0fde2db-55b7-4268-9c3c-c9e9d533471c",
   "metadata": {},
   "outputs": [],
   "source": [
    "# Place trade orders\n",
    "def place_order(symbol, qty, side):\n",
    "    api.submit_order(\n",
    "        symbol=symbol,\n",
    "        qty=qty,\n",
    "        side=side,\n",
    "        type='market',\n",
    "        time_in_force='gtc'\n",
    "    )"
   ]
  },
  {
   "cell_type": "code",
   "execution_count": 10,
   "id": "235e9112-20b4-4e2c-beab-e67f40302bd6",
   "metadata": {},
   "outputs": [],
   "source": [
    "# Execute trades based on the selected symbol\n",
    "def execute_trade():\n",
    "    symbol = symbol_var.get()\n",
    "    qty = int(qty_entry.get())\n",
    "    side = side_var.get()# Execute trades based on the selected symbol\n",
    "def execute_trade():\n",
    "    symbol = symbol_var.get()\n",
    "    qty = int(qty_entry.get())\n",
    "    side = side_var.get()\n",
    "\n",
    "    # Place trade order\n",
    "    place_order(symbol, qty, side)\n",
    "\n",
    "    # Clear the input fields\n",
    "    symbol_var.set('')\n",
    "    qty_entry.delete(0, 'end')\n",
    "    side_var.set('')"
   ]
  },
  {
   "cell_type": "code",
   "execution_count": 11,
   "id": "60c787da-984c-4d73-ab7c-fd1aa0350822",
   "metadata": {},
   "outputs": [
    {
     "data": {
      "text/plain": [
       "''"
      ]
     },
     "execution_count": 11,
     "metadata": {},
     "output_type": "execute_result"
    }
   ],
   "source": [
    "# Create the GUI window\n",
    "window = tk.Tk()\n",
    "window.title('Alpaca Trading Bot')\n",
    "window.geometry('300x200')"
   ]
  },
  {
   "cell_type": "code",
   "execution_count": 12,
   "id": "8d2ddab2-db80-4c8f-b936-e47005ba60d0",
   "metadata": {},
   "outputs": [],
   "source": [
    "# Create and position GUI elements\n",
    "symbol_label = tk.Label(window, text='Symbol:')\n",
    "symbol_label.pack()\n",
    "symbol_var = tk.StringVar()\n",
    "symbol_entry = tk.Entry(window, textvariable=symbol_var)\n",
    "symbol_entry.pack()\n",
    "\n",
    "qty_label = tk.Label(window, text='Quantity:')\n",
    "qty_label.pack()\n",
    "qty_entry = tk.Entry(window)\n",
    "qty_entry.pack()\n",
    "\n",
    "side_label = tk.Label(window, text='Side:')\n",
    "side_label.pack()\n",
    "side_var = tk.StringVar()\n",
    "side_entry = tk.Entry(window, textvariable=side_var)\n",
    "side_entry.pack()\n",
    "\n",
    "execute_button = tk.Button(window, text='Execute Trade', command=execute_trade)\n",
    "execute_button.pack()"
   ]
  },
  {
   "cell_type": "code",
   "execution_count": 13,
   "id": "213e5364-cd2d-4ddf-ba82-551d9781099e",
   "metadata": {},
   "outputs": [],
   "source": [
    "# Main trading loop\n",
    "def main():\n",
    "    for symbol in symbols:\n",
    "        # Get historical data\n",
    "        data = get_historical_data(symbol, '1Day', 60)\n",
    "\n",
    "        # Apply trading strategy\n",
    "        data = trading_strategy(data)\n",
    "\n",
    "        # Check the last trading signal\n",
    "        last_signal = data['signal'].iloc[-1]\n",
    "\n",
    "        # Execute trade based on the last signal\n",
    "        if last_signal == 1:\n",
    "            place_order(symbol, 1, 'buy')\n",
    "        elif last_signal == -1:\n",
    "            place_order(symbol, 1, 'sell')"
   ]
  },
  {
   "cell_type": "code",
   "execution_count": 14,
   "id": "630ebc1e-d847-48f7-9b42-4a1c01a4f2e0",
   "metadata": {},
   "outputs": [
    {
     "ename": "KeyError",
     "evalue": "\"None of [Index(['PANW', 'LRCX', 'AAPL', 'AMZN', 'MSFT', 'TSLA', 'CAT', 'DE'], dtype='object')] are in the [columns]\"",
     "output_type": "error",
     "traceback": [
      "\u001b[1;31m---------------------------------------------------------------------------\u001b[0m",
      "\u001b[1;31mKeyError\u001b[0m                                  Traceback (most recent call last)",
      "\u001b[1;32m~\\AppData\\Local\\Temp\\ipykernel_4752\\1792518111.py\u001b[0m in \u001b[0;36m<module>\u001b[1;34m\u001b[0m\n\u001b[0;32m      1\u001b[0m \u001b[1;31m# Run the main trading loop\u001b[0m\u001b[1;33m\u001b[0m\u001b[1;33m\u001b[0m\u001b[1;33m\u001b[0m\u001b[0m\n\u001b[0;32m      2\u001b[0m \u001b[1;32mif\u001b[0m \u001b[0m__name__\u001b[0m \u001b[1;33m==\u001b[0m \u001b[1;34m'__main__'\u001b[0m\u001b[1;33m:\u001b[0m\u001b[1;33m\u001b[0m\u001b[1;33m\u001b[0m\u001b[0m\n\u001b[1;32m----> 3\u001b[1;33m     \u001b[0mmain\u001b[0m\u001b[1;33m(\u001b[0m\u001b[1;33m)\u001b[0m\u001b[1;33m\u001b[0m\u001b[1;33m\u001b[0m\u001b[0m\n\u001b[0m",
      "\u001b[1;32m~\\AppData\\Local\\Temp\\ipykernel_4752\\604299534.py\u001b[0m in \u001b[0;36mmain\u001b[1;34m()\u001b[0m\n\u001b[0;32m      3\u001b[0m     \u001b[1;32mfor\u001b[0m \u001b[0msymbol\u001b[0m \u001b[1;32min\u001b[0m \u001b[0msymbols\u001b[0m\u001b[1;33m:\u001b[0m\u001b[1;33m\u001b[0m\u001b[1;33m\u001b[0m\u001b[0m\n\u001b[0;32m      4\u001b[0m         \u001b[1;31m# Get historical data\u001b[0m\u001b[1;33m\u001b[0m\u001b[1;33m\u001b[0m\u001b[1;33m\u001b[0m\u001b[0m\n\u001b[1;32m----> 5\u001b[1;33m         \u001b[0mdata\u001b[0m \u001b[1;33m=\u001b[0m \u001b[0mget_historical_data\u001b[0m\u001b[1;33m(\u001b[0m\u001b[0msymbol\u001b[0m\u001b[1;33m,\u001b[0m \u001b[1;34m'1Day'\u001b[0m\u001b[1;33m,\u001b[0m \u001b[1;36m60\u001b[0m\u001b[1;33m)\u001b[0m\u001b[1;33m\u001b[0m\u001b[1;33m\u001b[0m\u001b[0m\n\u001b[0m\u001b[0;32m      6\u001b[0m \u001b[1;33m\u001b[0m\u001b[0m\n\u001b[0;32m      7\u001b[0m         \u001b[1;31m# Apply trading strategy\u001b[0m\u001b[1;33m\u001b[0m\u001b[1;33m\u001b[0m\u001b[1;33m\u001b[0m\u001b[0m\n",
      "\u001b[1;32m~\\AppData\\Local\\Temp\\ipykernel_4752\\3313506073.py\u001b[0m in \u001b[0;36mget_historical_data\u001b[1;34m(symbol, timeframe, limit)\u001b[0m\n\u001b[0;32m      2\u001b[0m \u001b[1;32mdef\u001b[0m \u001b[0mget_historical_data\u001b[0m\u001b[1;33m(\u001b[0m\u001b[0msymbol\u001b[0m\u001b[1;33m,\u001b[0m \u001b[0mtimeframe\u001b[0m\u001b[1;33m,\u001b[0m \u001b[0mlimit\u001b[0m\u001b[1;33m)\u001b[0m\u001b[1;33m:\u001b[0m\u001b[1;33m\u001b[0m\u001b[1;33m\u001b[0m\u001b[0m\n\u001b[0;32m      3\u001b[0m     \u001b[0mhistorical_data\u001b[0m \u001b[1;33m=\u001b[0m \u001b[0mapi\u001b[0m\u001b[1;33m.\u001b[0m\u001b[0mget_bars\u001b[0m\u001b[1;33m(\u001b[0m\u001b[0msymbols\u001b[0m\u001b[1;33m,\u001b[0m \u001b[0mtimeframe\u001b[0m\u001b[1;33m,\u001b[0m \u001b[0mlimit\u001b[0m\u001b[1;33m=\u001b[0m\u001b[0mlimit\u001b[0m\u001b[1;33m)\u001b[0m\u001b[1;33m.\u001b[0m\u001b[0mdf\u001b[0m\u001b[1;33m\u001b[0m\u001b[1;33m\u001b[0m\u001b[0m\n\u001b[1;32m----> 4\u001b[1;33m     \u001b[1;32mreturn\u001b[0m \u001b[0mhistorical_data\u001b[0m\u001b[1;33m[\u001b[0m\u001b[0msymbols\u001b[0m\u001b[1;33m]\u001b[0m\u001b[1;33m\u001b[0m\u001b[1;33m\u001b[0m\u001b[0m\n\u001b[0m",
      "\u001b[1;32m~\\anaconda3\\envs\\dev\\lib\\site-packages\\pandas\\core\\frame.py\u001b[0m in \u001b[0;36m__getitem__\u001b[1;34m(self, key)\u001b[0m\n\u001b[0;32m   3462\u001b[0m             \u001b[1;32mif\u001b[0m \u001b[0mis_iterator\u001b[0m\u001b[1;33m(\u001b[0m\u001b[0mkey\u001b[0m\u001b[1;33m)\u001b[0m\u001b[1;33m:\u001b[0m\u001b[1;33m\u001b[0m\u001b[1;33m\u001b[0m\u001b[0m\n\u001b[0;32m   3463\u001b[0m                 \u001b[0mkey\u001b[0m \u001b[1;33m=\u001b[0m \u001b[0mlist\u001b[0m\u001b[1;33m(\u001b[0m\u001b[0mkey\u001b[0m\u001b[1;33m)\u001b[0m\u001b[1;33m\u001b[0m\u001b[1;33m\u001b[0m\u001b[0m\n\u001b[1;32m-> 3464\u001b[1;33m             \u001b[0mindexer\u001b[0m \u001b[1;33m=\u001b[0m \u001b[0mself\u001b[0m\u001b[1;33m.\u001b[0m\u001b[0mloc\u001b[0m\u001b[1;33m.\u001b[0m\u001b[0m_get_listlike_indexer\u001b[0m\u001b[1;33m(\u001b[0m\u001b[0mkey\u001b[0m\u001b[1;33m,\u001b[0m \u001b[0maxis\u001b[0m\u001b[1;33m=\u001b[0m\u001b[1;36m1\u001b[0m\u001b[1;33m)\u001b[0m\u001b[1;33m[\u001b[0m\u001b[1;36m1\u001b[0m\u001b[1;33m]\u001b[0m\u001b[1;33m\u001b[0m\u001b[1;33m\u001b[0m\u001b[0m\n\u001b[0m\u001b[0;32m   3465\u001b[0m \u001b[1;33m\u001b[0m\u001b[0m\n\u001b[0;32m   3466\u001b[0m         \u001b[1;31m# take() does not accept boolean indexers\u001b[0m\u001b[1;33m\u001b[0m\u001b[1;33m\u001b[0m\u001b[1;33m\u001b[0m\u001b[0m\n",
      "\u001b[1;32m~\\anaconda3\\envs\\dev\\lib\\site-packages\\pandas\\core\\indexing.py\u001b[0m in \u001b[0;36m_get_listlike_indexer\u001b[1;34m(self, key, axis)\u001b[0m\n\u001b[0;32m   1312\u001b[0m             \u001b[0mkeyarr\u001b[0m\u001b[1;33m,\u001b[0m \u001b[0mindexer\u001b[0m\u001b[1;33m,\u001b[0m \u001b[0mnew_indexer\u001b[0m \u001b[1;33m=\u001b[0m \u001b[0max\u001b[0m\u001b[1;33m.\u001b[0m\u001b[0m_reindex_non_unique\u001b[0m\u001b[1;33m(\u001b[0m\u001b[0mkeyarr\u001b[0m\u001b[1;33m)\u001b[0m\u001b[1;33m\u001b[0m\u001b[1;33m\u001b[0m\u001b[0m\n\u001b[0;32m   1313\u001b[0m \u001b[1;33m\u001b[0m\u001b[0m\n\u001b[1;32m-> 1314\u001b[1;33m         \u001b[0mself\u001b[0m\u001b[1;33m.\u001b[0m\u001b[0m_validate_read_indexer\u001b[0m\u001b[1;33m(\u001b[0m\u001b[0mkeyarr\u001b[0m\u001b[1;33m,\u001b[0m \u001b[0mindexer\u001b[0m\u001b[1;33m,\u001b[0m \u001b[0maxis\u001b[0m\u001b[1;33m)\u001b[0m\u001b[1;33m\u001b[0m\u001b[1;33m\u001b[0m\u001b[0m\n\u001b[0m\u001b[0;32m   1315\u001b[0m \u001b[1;33m\u001b[0m\u001b[0m\n\u001b[0;32m   1316\u001b[0m         if needs_i8_conversion(ax.dtype) or isinstance(\n",
      "\u001b[1;32m~\\anaconda3\\envs\\dev\\lib\\site-packages\\pandas\\core\\indexing.py\u001b[0m in \u001b[0;36m_validate_read_indexer\u001b[1;34m(self, key, indexer, axis)\u001b[0m\n\u001b[0;32m   1372\u001b[0m                 \u001b[1;32mif\u001b[0m \u001b[0muse_interval_msg\u001b[0m\u001b[1;33m:\u001b[0m\u001b[1;33m\u001b[0m\u001b[1;33m\u001b[0m\u001b[0m\n\u001b[0;32m   1373\u001b[0m                     \u001b[0mkey\u001b[0m \u001b[1;33m=\u001b[0m \u001b[0mlist\u001b[0m\u001b[1;33m(\u001b[0m\u001b[0mkey\u001b[0m\u001b[1;33m)\u001b[0m\u001b[1;33m\u001b[0m\u001b[1;33m\u001b[0m\u001b[0m\n\u001b[1;32m-> 1374\u001b[1;33m                 \u001b[1;32mraise\u001b[0m \u001b[0mKeyError\u001b[0m\u001b[1;33m(\u001b[0m\u001b[1;34mf\"None of [{key}] are in the [{axis_name}]\"\u001b[0m\u001b[1;33m)\u001b[0m\u001b[1;33m\u001b[0m\u001b[1;33m\u001b[0m\u001b[0m\n\u001b[0m\u001b[0;32m   1375\u001b[0m \u001b[1;33m\u001b[0m\u001b[0m\n\u001b[0;32m   1376\u001b[0m             \u001b[0mnot_found\u001b[0m \u001b[1;33m=\u001b[0m \u001b[0mlist\u001b[0m\u001b[1;33m(\u001b[0m\u001b[0mensure_index\u001b[0m\u001b[1;33m(\u001b[0m\u001b[0mkey\u001b[0m\u001b[1;33m)\u001b[0m\u001b[1;33m[\u001b[0m\u001b[0mmissing_mask\u001b[0m\u001b[1;33m.\u001b[0m\u001b[0mnonzero\u001b[0m\u001b[1;33m(\u001b[0m\u001b[1;33m)\u001b[0m\u001b[1;33m[\u001b[0m\u001b[1;36m0\u001b[0m\u001b[1;33m]\u001b[0m\u001b[1;33m]\u001b[0m\u001b[1;33m.\u001b[0m\u001b[0munique\u001b[0m\u001b[1;33m(\u001b[0m\u001b[1;33m)\u001b[0m\u001b[1;33m)\u001b[0m\u001b[1;33m\u001b[0m\u001b[1;33m\u001b[0m\u001b[0m\n",
      "\u001b[1;31mKeyError\u001b[0m: \"None of [Index(['PANW', 'LRCX', 'AAPL', 'AMZN', 'MSFT', 'TSLA', 'CAT', 'DE'], dtype='object')] are in the [columns]\""
     ]
    }
   ],
   "source": [
    "# Run the main trading loop\n",
    "if __name__ == '__main__':\n",
    "    main()"
   ]
  },
  {
   "cell_type": "code",
   "execution_count": null,
   "id": "ff75c7fd-a5f3-42ba-a9bc-3b1f26816f57",
   "metadata": {},
   "outputs": [
    {
     "name": "stderr",
     "output_type": "stream",
     "text": [
      "Exception in Tkinter callback\n",
      "Traceback (most recent call last):\n",
      "  File \"C:\\Users\\sakes\\anaconda3\\envs\\dev\\lib\\site-packages\\alpaca_trade_api\\rest.py\", line 234, in _one_request\n",
      "    resp.raise_for_status()\n",
      "  File \"C:\\Users\\sakes\\anaconda3\\envs\\dev\\lib\\site-packages\\requests\\models.py\", line 1021, in raise_for_status\n",
      "    raise HTTPError(http_error_msg, response=self)\n",
      "requests.exceptions.HTTPError: 422 Client Error: Unprocessable Entity for url: https://paper-api.alpaca.markets/v2/orders\n",
      "\n",
      "During handling of the above exception, another exception occurred:\n",
      "\n",
      "Traceback (most recent call last):\n",
      "  File \"C:\\Users\\sakes\\anaconda3\\envs\\dev\\lib\\tkinter\\__init__.py\", line 1705, in __call__\n",
      "    return self.func(*args)\n",
      "  File \"C:\\Users\\sakes\\AppData\\Local\\Temp\\ipykernel_4752\\749120308.py\", line 12, in execute_trade\n",
      "    place_order(symbol, qty, side)\n",
      "  File \"C:\\Users\\sakes\\AppData\\Local\\Temp\\ipykernel_4752\\1463840879.py\", line 8, in place_order\n",
      "    time_in_force='gtc'\n",
      "  File \"C:\\Users\\sakes\\anaconda3\\envs\\dev\\lib\\site-packages\\alpaca_trade_api\\rest.py\", line 429, in submit_order\n",
      "    resp = self.post('/orders', params)\n",
      "  File \"C:\\Users\\sakes\\anaconda3\\envs\\dev\\lib\\site-packages\\alpaca_trade_api\\rest.py\", line 253, in post\n",
      "    return self._request('POST', path, data)\n",
      "  File \"C:\\Users\\sakes\\anaconda3\\envs\\dev\\lib\\site-packages\\alpaca_trade_api\\rest.py\", line 213, in _request\n",
      "    return self._one_request(method, url, opts, retry)\n",
      "  File \"C:\\Users\\sakes\\anaconda3\\envs\\dev\\lib\\site-packages\\alpaca_trade_api\\rest.py\", line 242, in _one_request\n",
      "    raise APIError(error, http_error)\n",
      "alpaca_trade_api.rest.APIError: could not find asset \"LCRX\"\n",
      "Exception in Tkinter callback\n",
      "Traceback (most recent call last):\n",
      "  File \"C:\\Users\\sakes\\anaconda3\\envs\\dev\\lib\\site-packages\\alpaca_trade_api\\rest.py\", line 234, in _one_request\n",
      "    resp.raise_for_status()\n",
      "  File \"C:\\Users\\sakes\\anaconda3\\envs\\dev\\lib\\site-packages\\requests\\models.py\", line 1021, in raise_for_status\n",
      "    raise HTTPError(http_error_msg, response=self)\n",
      "requests.exceptions.HTTPError: 403 Client Error: Forbidden for url: https://paper-api.alpaca.markets/v2/orders\n",
      "\n",
      "During handling of the above exception, another exception occurred:\n",
      "\n",
      "Traceback (most recent call last):\n",
      "  File \"C:\\Users\\sakes\\anaconda3\\envs\\dev\\lib\\tkinter\\__init__.py\", line 1705, in __call__\n",
      "    return self.func(*args)\n",
      "  File \"C:\\Users\\sakes\\AppData\\Local\\Temp\\ipykernel_4752\\749120308.py\", line 12, in execute_trade\n",
      "    place_order(symbol, qty, side)\n",
      "  File \"C:\\Users\\sakes\\AppData\\Local\\Temp\\ipykernel_4752\\1463840879.py\", line 8, in place_order\n",
      "    time_in_force='gtc'\n",
      "  File \"C:\\Users\\sakes\\anaconda3\\envs\\dev\\lib\\site-packages\\alpaca_trade_api\\rest.py\", line 429, in submit_order\n",
      "    resp = self.post('/orders', params)\n",
      "  File \"C:\\Users\\sakes\\anaconda3\\envs\\dev\\lib\\site-packages\\alpaca_trade_api\\rest.py\", line 253, in post\n",
      "    return self._request('POST', path, data)\n",
      "  File \"C:\\Users\\sakes\\anaconda3\\envs\\dev\\lib\\site-packages\\alpaca_trade_api\\rest.py\", line 213, in _request\n",
      "    return self._one_request(method, url, opts, retry)\n",
      "  File \"C:\\Users\\sakes\\anaconda3\\envs\\dev\\lib\\site-packages\\alpaca_trade_api\\rest.py\", line 242, in _one_request\n",
      "    raise APIError(error, http_error)\n",
      "alpaca_trade_api.rest.APIError: cannot open a long buy while a short sell order is open\n",
      "Exception in Tkinter callback\n",
      "Traceback (most recent call last):\n",
      "  File \"C:\\Users\\sakes\\anaconda3\\envs\\dev\\lib\\site-packages\\alpaca_trade_api\\rest.py\", line 234, in _one_request\n",
      "    resp.raise_for_status()\n",
      "  File \"C:\\Users\\sakes\\anaconda3\\envs\\dev\\lib\\site-packages\\requests\\models.py\", line 1021, in raise_for_status\n",
      "    raise HTTPError(http_error_msg, response=self)\n",
      "requests.exceptions.HTTPError: 403 Client Error: Forbidden for url: https://paper-api.alpaca.markets/v2/orders\n",
      "\n",
      "During handling of the above exception, another exception occurred:\n",
      "\n",
      "Traceback (most recent call last):\n",
      "  File \"C:\\Users\\sakes\\anaconda3\\envs\\dev\\lib\\tkinter\\__init__.py\", line 1705, in __call__\n",
      "    return self.func(*args)\n",
      "  File \"C:\\Users\\sakes\\AppData\\Local\\Temp\\ipykernel_4752\\749120308.py\", line 12, in execute_trade\n",
      "    place_order(symbol, qty, side)\n",
      "  File \"C:\\Users\\sakes\\AppData\\Local\\Temp\\ipykernel_4752\\1463840879.py\", line 8, in place_order\n",
      "    time_in_force='gtc'\n",
      "  File \"C:\\Users\\sakes\\anaconda3\\envs\\dev\\lib\\site-packages\\alpaca_trade_api\\rest.py\", line 429, in submit_order\n",
      "    resp = self.post('/orders', params)\n",
      "  File \"C:\\Users\\sakes\\anaconda3\\envs\\dev\\lib\\site-packages\\alpaca_trade_api\\rest.py\", line 253, in post\n",
      "    return self._request('POST', path, data)\n",
      "  File \"C:\\Users\\sakes\\anaconda3\\envs\\dev\\lib\\site-packages\\alpaca_trade_api\\rest.py\", line 213, in _request\n",
      "    return self._one_request(method, url, opts, retry)\n",
      "  File \"C:\\Users\\sakes\\anaconda3\\envs\\dev\\lib\\site-packages\\alpaca_trade_api\\rest.py\", line 242, in _one_request\n",
      "    raise APIError(error, http_error)\n",
      "alpaca_trade_api.rest.APIError: cannot open a long buy while a short sell order is open\n"
     ]
    }
   ],
   "source": [
    "# Start the GUI event loop\n",
    "window.mainloop()"
   ]
  },
  {
   "cell_type": "code",
   "execution_count": null,
   "id": "e3f5f901-e838-41d7-9e9e-4d708e2a7466",
   "metadata": {},
   "outputs": [],
   "source": []
  }
 ],
 "metadata": {
  "kernelspec": {
   "display_name": "Python 3 (ipykernel)",
   "language": "python",
   "name": "python3"
  },
  "language_info": {
   "codemirror_mode": {
    "name": "ipython",
    "version": 3
   },
   "file_extension": ".py",
   "mimetype": "text/x-python",
   "name": "python",
   "nbconvert_exporter": "python",
   "pygments_lexer": "ipython3",
   "version": "3.7.13"
  }
 },
 "nbformat": 4,
 "nbformat_minor": 5
}
