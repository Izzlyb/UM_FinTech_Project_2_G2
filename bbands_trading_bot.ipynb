{
 "cells": [
  {
   "cell_type": "code",
   "execution_count": 6,
   "id": "ea0cac6e-d1d4-4476-a792-23835e34f66a",
   "metadata": {},
   "outputs": [],
   "source": [
    "import os\n",
    "import alpaca_trade_api as tradeapi\n",
    "import numpy as np\n",
    "import pandas as pd\n",
    "from dotenv import load_dotenv\n",
    "import pandas_ta as ta\n",
    "import tkinter as tk\n",
    "from tkinter import messagebox"
   ]
  },
  {
   "cell_type": "code",
   "execution_count": 7,
   "id": "d12d7158-49b3-4367-8808-09673cac913c",
   "metadata": {},
   "outputs": [
    {
     "data": {
      "text/plain": [
       "True"
      ]
     },
     "execution_count": 7,
     "metadata": {},
     "output_type": "execute_result"
    }
   ],
   "source": [
    "load_dotenv()"
   ]
  },
  {
   "cell_type": "code",
   "execution_count": 8,
   "id": "f2b27d56-3737-454d-bad1-720248bf8381",
   "metadata": {},
   "outputs": [],
   "source": [
    "# Set Alpaca API key and secret\n",
    "alpaca_api_key = os.getenv(\"ALPACA_API_KEY\")\n",
    "alpaca_secret_key = os.getenv(\"ALPACA_SECRET_KEY\")\n",
    "base_url = os.getenv(\"BASE_URL\")"
   ]
  },
  {
   "cell_type": "code",
   "execution_count": 9,
   "id": "92b3ac03-cd6f-4b85-9503-828035aab5c2",
   "metadata": {},
   "outputs": [],
   "source": [
    "# Create the Alpaca API object\n",
    "api = tradeapi.REST(\n",
    "    alpaca_api_key,\n",
    "    alpaca_secret_key,\n",
    "    base_url,\n",
    "    api_version=\"v2\"\n",
    ")"
   ]
  },
  {
   "cell_type": "code",
   "execution_count": 10,
   "id": "6a1c26d3-6486-4ad1-bc27-1383d4e3ab21",
   "metadata": {},
   "outputs": [],
   "source": [
    "# Define the list of stock tickers\n",
    "tickers = ['PANW', 'LRCX', 'AAPL', 'AMZN', 'MSFT', 'TSLA', 'CAT', 'DE']"
   ]
  },
  {
   "cell_type": "code",
   "execution_count": 11,
   "id": "f1208bfc-a156-4e14-b580-8875dbd4ef76",
   "metadata": {},
   "outputs": [],
   "source": [
    "# Define Bollinger band parameters\n",
    "period = 20\n",
    "std_dev = 2"
   ]
  },
  {
   "cell_type": "code",
   "execution_count": 15,
   "id": "7bf07c4f-cf1c-4ae9-b6e2-1ff7ea51bebc",
   "metadata": {},
   "outputs": [],
   "source": [
    "def get_bollinger_bands(ticker):\n",
    "    # Get historical data for the ticker\n",
    "    historical_data = api.get_bars(ticker, 'day', limit=period+1).df[ticker]"
   ]
  },
  {
   "cell_type": "code",
   "execution_count": null,
   "id": "057e4911-fc9a-416f-b5a5-edf73fa4422a",
   "metadata": {},
   "outputs": [],
   "source": [
    "# Extract closing prices\n",
    "closing_prices = historical_data.close.values"
   ]
  },
  {
   "cell_type": "code",
   "execution_count": null,
   "id": "65da04df-2f6a-4c4f-814c-eea4567879a3",
   "metadata": {},
   "outputs": [],
   "source": [
    "# Calculate Bollinger bands\n",
    "bollinger_bands = ta.bbands(pd.Series(closing_prices), length=period, std=std_dev)\n",
    "\n",
    "return bollinger_bands"
   ]
  },
  {
   "cell_type": "code",
   "execution_count": null,
   "id": "66b77aed-5321-41c7-ae9f-c135d681d238",
   "metadata": {},
   "outputs": [],
   "source": [
    "def submit_trade(ticker, action):\n",
    "    try:\n",
    "        # Check if the submitted ticker is valid\n",
    "        if ticker in tickers:\n",
    "            # Get the current price for the ticker\n",
    "            current_price = api.get_last_trade(ticker).price\n",
    "\n",
    "            # Check if the action is valid (buy or sell)\n",
    "            if action == 'buy':\n",
    "                # Place a buy order\n",
    "                api.submit_order(\n",
    "                    symbol=ticker,\n",
    "                    qty=1,\n",
    "                    side='buy',\n",
    "                    type='market',\n",
    "                    time_in_force='gtc'\n",
    "                )\n",
    "                messagebox.showinfo(\"Success\", f\"Buy order for {ticker} placed successfully.\")\n",
    "            elif action == 'sell':\n",
    "                # Place a sell order\n",
    "                api.submit_order(\n",
    "                    symbol=ticker,\n",
    "                    qty=1,\n",
    "                    side='sell',\n",
    "                    type='market',\n",
    "                    time_in_force='gtc'\n",
    "                )\n",
    "                messagebox.showinfo(\"Success\", f\"Sell order for {ticker} placed successfully.\")\n",
    "            else:\n",
    "                messagebox.showerror(\"Error\", \"Invalid action. Please choose 'buy' or 'sell'.\")\n",
    "        else:\n",
    "            messagebox.showerror(\"Error\", \"Invalid ticker.\")\n",
    "    except Exception as e:\n",
    "        messagebox.showerror(\"Error\", f\"An error occurred: {str(e)}\")"
   ]
  },
  {
   "cell_type": "code",
   "execution_count": null,
   "id": "660b8cb9-4a2b-4d95-8dbf-93d49b129f35",
   "metadata": {},
   "outputs": [],
   "source": [
    "def create_interface():\n",
    "    root = tk.Tk()\n",
    "    root.title(\"Bollinger Band Trading Bot\")"
   ]
  },
  {
   "cell_type": "code",
   "execution_count": null,
   "id": "e5271245-b6a9-4ac7-b1bb-0d1b31ac2acb",
   "metadata": {},
   "outputs": [],
   "source": [
    "# Create a LabelFrame for ticker selection\n",
    "    ticker_frame = tk.LabelFrame(root, text=\"Select Ticker\")\n",
    "    ticker_frame.pack(padx=10, pady=10)\n",
    "\n",
    "    ticker_var = tk.StringVar()\n",
    "    ticker_dropdown = tk.OptionMenu(ticker_frame, ticker_var, *tickers)\n",
    "    ticker_dropdown.pack(padx=10, pady=10)"
   ]
  },
  {
   "cell_type": "code",
   "execution_count": null,
   "id": "631cc45a-ebb4-4857-8fd6-1838db764662",
   "metadata": {},
   "outputs": [],
   "source": [
    "# Create a LabelFrame for action selection\n",
    "    action_frame = tk.LabelFrame(root, text=\"Select Action\")\n",
    "    action_frame.pack(padx=10, pady=10)\n",
    "\n",
    "    action_var = tk.StringVar()\n",
    "    action_dropdown = tk.OptionMenu(action_frame, action_var, \"Buy\", \"Sell\")\n",
    "    action_dropdown.pack(padx=10, pady=10)\n",
    "\n",
    "    # Create a button to submit the trade\n",
    "    submit_button = tk.Button(root, text=\"Submit\", command=lambda: submit_trade(ticker_var.get(), action_var.get()))\n",
    "    submit_button.pack(padx=10, pady=10)\n",
    "\n",
    "    root.mainloop()"
   ]
  },
  {
   "cell_type": "code",
   "execution_count": null,
   "id": "95ab831f-d42a-4c04-a78b-ab4ebf163e31",
   "metadata": {},
   "outputs": [],
   "source": [
    "if __name__ == '__main__':\n",
    "    create_interface()"
   ]
  }
 ],
 "metadata": {
  "kernelspec": {
   "display_name": "Python 3 (ipykernel)",
   "language": "python",
   "name": "python3"
  },
  "language_info": {
   "codemirror_mode": {
    "name": "ipython",
    "version": 3
   },
   "file_extension": ".py",
   "mimetype": "text/x-python",
   "name": "python",
   "nbconvert_exporter": "python",
   "pygments_lexer": "ipython3",
   "version": "3.7.13"
  }
 },
 "nbformat": 4,
 "nbformat_minor": 5
}
