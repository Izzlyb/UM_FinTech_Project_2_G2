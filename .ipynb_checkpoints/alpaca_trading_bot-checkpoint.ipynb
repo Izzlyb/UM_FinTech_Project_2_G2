{
 "cells": [
  {
   "cell_type": "code",
   "execution_count": 104,
   "id": "9f53eb0b-1e4a-4ca3-9ddd-8c8d9c90c352",
   "metadata": {},
   "outputs": [],
   "source": [
    "import os\n",
    "import pandas as pd\n",
    "from dotenv import load_dotenv\n",
    "import alpaca_trade_api as tradeapi\n",
    "import tkinter as tk"
   ]
  },
  {
   "cell_type": "code",
   "execution_count": 105,
   "id": "a06ba626-ddfc-48a8-9dee-08ee916f52c5",
   "metadata": {},
   "outputs": [
    {
     "data": {
      "text/plain": [
       "True"
      ]
     },
     "execution_count": 105,
     "metadata": {},
     "output_type": "execute_result"
    }
   ],
   "source": [
    "load_dotenv()"
   ]
  },
  {
   "cell_type": "code",
   "execution_count": 106,
   "id": "90bad447-c3d7-4668-88ac-f8ab09235260",
   "metadata": {},
   "outputs": [],
   "source": [
    "# Set Alpaca API key and secret\n",
    "alpaca_api_key = os.getenv(\"ALPACA_API_KEY\")\n",
    "alpaca_secret_key = os.getenv(\"ALPACA_SECRET_KEY\")\n",
    "base_url = os.getenv(\"BASE_URL\")"
   ]
  },
  {
   "cell_type": "code",
   "execution_count": 107,
   "id": "d4b48c22-f641-42da-a92c-ef53e69d2255",
   "metadata": {},
   "outputs": [],
   "source": [
    "# Create the Alpaca API object\n",
    "api = tradeapi.REST(\n",
    "    alpaca_api_key,\n",
    "    alpaca_secret_key,\n",
    "    base_url,\n",
    "    api_version=\"v2\"\n",
    ")"
   ]
  },
  {
   "cell_type": "code",
   "execution_count": null,
   "id": "ba0ae70e-8376-4050-b5b2-718c9793ca19",
   "metadata": {},
   "outputs": [],
   "source": [
    "# Set the stock tickers\n",
    "symbols = ['PANW', 'LRCX', 'AAPL', 'AMZN', 'MSFT', 'TSLA', 'CAT', 'DE']"
   ]
  },
  {
   "cell_type": "code",
   "execution_count": 108,
   "id": "458ed447-3b7c-4c82-b232-09785e6d8b93",
   "metadata": {},
   "outputs": [],
   "source": [
    "# Define trading strategy\n",
    "def trading_strategy(symbol, quantity):\n",
    "    # Set timeframe to \"1Day\"\n",
    "    timeframe = \"1D\""
   ]
  },
  {
   "cell_type": "code",
   "execution_count": 110,
   "id": "8f14a47a-4372-4230-9b77-1b0c4e7540df",
   "metadata": {},
   "outputs": [],
   "source": [
    "# Set start and end datetimes of 1 month, between now and 1 month ago.\n",
    "start_date = pd.Timestamp(\"2023-06-10\", tz=\"America/New_York\").isoformat()\n",
    "end_date = pd.Timestamp(\"2023-07-10\", tz=\"America/New_York\").isoformat()"
   ]
  },
  {
   "cell_type": "code",
   "execution_count": null,
   "id": "0ad1e132-5cb7-4e1d-8b2b-7d056d6ab386",
   "metadata": {},
   "outputs": [],
   "source": [
    "# Get historical data for the specified symbol\n",
    "historical_data = api.get_bars(\n",
    "    symbol,\n",
    "    timeframe,\n",
    "    start=start_date,\n",
    "    end=end_date\n",
    "    ).df[symbol]\n",
    "\n",
    "if not historical_data.empty:\n",
    "    # Calculate SMA indicators\n",
    "    historical_data['SMA30'] = historical_data['close'].rolling(window=30).mean()\n",
    "    historical_data['SMA50'] = historical_data['close'].rolling(window=50).mean()"
   ]
  },
  {
   "cell_type": "code",
   "execution_count": null,
   "id": "309cc143-bbc4-4251-ba14-030a725d8977",
   "metadata": {},
   "outputs": [],
   "source": [
    "# Determine the latest SMA values\n",
    "latest_sma30 = historical_data['SMA30'].iloc[-1]\n",
    "latest_sma50 = historical_data['SMA50'].iloc[-1]"
   ]
  },
  {
   "cell_type": "code",
   "execution_count": null,
   "id": "9061b1c7-9c26-4b93-8a53-a7b5cd293717",
   "metadata": {},
   "outputs": [],
   "source": [
    "# Check for trading signals\n",
    "if latest_sma30 > latest_sma50:\n",
    "    # Example: Buy shares of the specified stock if SMA30 crosses above SMA50\n",
    "    qty = int(quantity)\n",
    "    side = 'buy'\n",
    "    order_type = 'market'\n",
    "    \n",
    "    api.submit_order(\n",
    "        symbol=symbol,\n",
    "        qty=qty,\n",
    "        side=side,\n",
    "        type=order_type,\n",
    "        time_in_force='gtc'\n",
    "    )\n",
    "    result_label.config(text='Buy order submitted.')\n",
    "           \n",
    "elif latest_sma30 < latest_sma50:\n",
    "    # Example: Sell all shares of the specified stock if SMA30 crosses below SMA50\n",
    "    qty = 'all'\n",
    "    side = 'sell'\n",
    "    order_type = 'market'\n",
    "    \n",
    "    api.submit_order(\n",
    "        symbol=symbol,\n",
    "        qty=qty,\n",
    "        side=side,\n",
    "        type=order_type,\n",
    "        time_in_force='gtc'\n",
    "    )\n",
    "    result_label.config(text='Sell order submitted.')\n",
    "           \n",
    "\n",
    "            api.submit_order(\n",
    "                symbol=symbol,\n",
    "                qty=qty,\n",
    "                side=side,\n",
    "                type=order_type,\n",
    "                time_in_force='gtc'\n",
    "            )\n",
    "            result_label.config(text='Sell order submitted.')\n",
    "            \n",
    "\n",
    "else:\n",
    "    result_label.config(text='No trading signals.')\n",
    "\n",
    "    \n",
    "else:\n",
    "    result_label.config(text='Symbol not found or no historical data available.')       "
   ]
  },
  {
   "cell_type": "code",
   "execution_count": null,
   "id": "d0fde2db-55b7-4268-9c3c-c9e9d533471c",
   "metadata": {},
   "outputs": [],
   "source": [
    "# Function to handle button click\n",
    "def submit_button_click():\n",
    "    symbol = symbol_entry.get().upper()\n",
    "    quantity = quantity_entry.get()\n",
    "    trading_strategy(symbol, quantity)"
   ]
  },
  {
   "cell_type": "code",
   "execution_count": null,
   "id": "235e9112-20b4-4e2c-beab-e67f40302bd6",
   "metadata": {},
   "outputs": [],
   "source": [
    "# Create GUI window\n",
    "window = tk.Tk()\n",
    "window.title('Alpaca Trading Bot')\n",
    "window.geometry('400x250')"
   ]
  },
  {
   "cell_type": "code",
   "execution_count": null,
   "id": "ac2b1302-a382-4887-a7c9-599af56aeddb",
   "metadata": {},
   "outputs": [],
   "source": [
    "# Create input fields and labels\n",
    "symbol_label = tk.Label(window, text='Symbol:')\n",
    "symbol_label.pack()\n",
    "symbol_entry = tk.Entry(window)\n",
    "symbol_entry.pack()\n",
    "\n",
    "quantity_label = tk.Label(window, text='Quantity:')\n",
    "quantity_label.pack()\n",
    "quantity_entry = tk.Entry(window)\n",
    "quantity_entry.pack()"
   ]
  },
  {
   "cell_type": "code",
   "execution_count": null,
   "id": "eebc7a58-aba7-46c1-ad25-0be178efe34e",
   "metadata": {},
   "outputs": [],
   "source": [
    "# Create result label\n",
    "result_label = tk.Label(window, text='')\n",
    "result_label.pack()"
   ]
  },
  {
   "cell_type": "code",
   "execution_count": null,
   "id": "60c787da-984c-4d73-ab7c-fd1aa0350822",
   "metadata": {},
   "outputs": [],
   "source": [
    "# Create submit button\n",
    "submit_button = tk.Button(window, text='Submit', command=submit_button_click)\n",
    "submit_button.pack()"
   ]
  },
  {
   "cell_type": "code",
   "execution_count": null,
   "id": "8d2ddab2-db80-4c8f-b936-e47005ba60d0",
   "metadata": {},
   "outputs": [],
   "source": [
    "window.mainloop()"
   ]
  }
 ],
 "metadata": {
  "kernelspec": {
   "display_name": "Python 3 (ipykernel)",
   "language": "python",
   "name": "python3"
  },
  "language_info": {
   "codemirror_mode": {
    "name": "ipython",
    "version": 3
   },
   "file_extension": ".py",
   "mimetype": "text/x-python",
   "name": "python",
   "nbconvert_exporter": "python",
   "pygments_lexer": "ipython3",
   "version": "3.7.13"
  }
 },
 "nbformat": 4,
 "nbformat_minor": 5
}
