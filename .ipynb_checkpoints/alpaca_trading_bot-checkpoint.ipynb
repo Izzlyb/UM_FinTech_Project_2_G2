{
 "cells": [
  {
   "cell_type": "code",
   "execution_count": 25,
   "id": "69f3eb24-06df-4c50-b6b9-9503f0f81c04",
   "metadata": {},
   "outputs": [],
   "source": [
    "# Initial imports\n",
    "import os\n",
    "import requests\n",
    "import pandas as pd\n",
    "from dotenv import load_dotenv\n",
    "import alpaca_trade_api as tradeapi\n",
    "\n",
    "%matplotlib inline"
   ]
  },
  {
   "cell_type": "code",
   "execution_count": 26,
   "id": "ed3b8bf6-8f8c-478d-918d-3abd0c7c3bb1",
   "metadata": {},
   "outputs": [
    {
     "data": {
      "text/plain": [
       "True"
      ]
     },
     "execution_count": 26,
     "metadata": {},
     "output_type": "execute_result"
    }
   ],
   "source": [
    "load_dotenv()"
   ]
  },
  {
   "cell_type": "code",
   "execution_count": 27,
   "id": "cd22b0a1-dd43-4a2a-93c0-481d3b92a822",
   "metadata": {},
   "outputs": [],
   "source": [
    "# Set Alpaca API key and secret\n",
    "alpaca_api_key = os.getenv(\"ALPACA_API_KEY\")\n",
    "alpaca_secret_key = os.getenv(\"ALPACA_SECRET_KEY\")\n",
    "base_url = os.getenv(\"BASE_URL\")"
   ]
  },
  {
   "cell_type": "code",
   "execution_count": 28,
   "id": "2b8400e3-d4b5-4d86-b522-7c5116299eb1",
   "metadata": {},
   "outputs": [],
   "source": [
    "# Create the Alpaca API object\n",
    "alpaca = tradeapi.REST(\n",
    "    alpaca_api_key,\n",
    "    alpaca_secret_key,\n",
    "    base_url,\n",
    "    api_version=\"v2\")"
   ]
  },
  {
   "cell_type": "code",
   "execution_count": 29,
   "id": "2b14e802-b252-4f1a-8d78-8981a809f6b1",
   "metadata": {},
   "outputs": [
    {
     "data": {
      "text/plain": [
       "{'MSFT': 20, 'AAPL': 10, 'TSLA': 5}"
      ]
     },
     "execution_count": 29,
     "metadata": {},
     "output_type": "execute_result"
    }
   ],
   "source": [
    "#Define your portfolio holdings\n",
    "portfolio = { \n",
    "    \"MSFT\" : 20,\n",
    "    \"AAPL\" : 10,\n",
    "    \"TSLA\" : 5\n",
    "}\n",
    "\n",
    "# Display shares data\n",
    "portfolio"
   ]
  },
  {
   "cell_type": "code",
   "execution_count": 37,
   "id": "5c0ea6db-098e-4167-bede-ba9207cba3da",
   "metadata": {},
   "outputs": [
    {
     "ename": "SyntaxError",
     "evalue": "invalid syntax (1081432996.py, line 3)",
     "output_type": "error",
     "traceback": [
      "\u001b[1;36m  File \u001b[1;32m\"C:\\Users\\sakes\\AppData\\Local\\Temp\\ipykernel_4876\\1081432996.py\"\u001b[1;36m, line \u001b[1;32m3\u001b[0m\n\u001b[1;33m    for symbol, quantity in\u001b[0m\n\u001b[1;37m                           ^\u001b[0m\n\u001b[1;31mSyntaxError\u001b[0m\u001b[1;31m:\u001b[0m invalid syntax\n"
     ]
    }
   ],
   "source": [
    "#Function to execute trades\n",
    "def execute_trades():\n",
    "    for symbol, quantity in\n",
    "portfolio.items():\n",
    "    #Get the current market price \n",
    "    quote = api.get_last_trade(symbol)\n",
    "    market_price = float(quote.price)\n",
    "    # Place an order to adjust the position \n",
    "        if quantity > 0:\n",
    "            #Buy order\n",
    "            api.submit_order(\n",
    "                symbol=symbol,\n",
    "                qty=quantity,\n",
    "                side='buy',\n",
    "                type='market'\n",
    "                time_in_force='gtc'\n",
    "            )\n",
    "            elif quantity < 0 : \n",
    "                #Sell order\n",
    "                api.submit_order(\n",
    "                    symbol=symbol\n",
    "                    qty=abs(quantity),\n",
    "                    side='sell'\n",
    "                    type='market'\n",
    "                    time_in_force='gtc'\n",
    "                )   "
   ]
  },
  {
   "cell_type": "code",
   "execution_count": null,
   "id": "6afb5dfd-ec11-4b10-ad56-571c1b4d3e43",
   "metadata": {},
   "outputs": [],
   "source": [
    "#Execute the trades\n",
    "execute_trades()"
   ]
  }
 ],
 "metadata": {
  "kernelspec": {
   "display_name": "Python 3 (ipykernel)",
   "language": "python",
   "name": "python3"
  },
  "language_info": {
   "codemirror_mode": {
    "name": "ipython",
    "version": 3
   },
   "file_extension": ".py",
   "mimetype": "text/x-python",
   "name": "python",
   "nbconvert_exporter": "python",
   "pygments_lexer": "ipython3",
   "version": "3.7.13"
  }
 },
 "nbformat": 4,
 "nbformat_minor": 5
}
