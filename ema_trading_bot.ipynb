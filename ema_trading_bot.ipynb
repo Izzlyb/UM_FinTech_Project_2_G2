{
 "cells": [
  {
   "cell_type": "code",
   "execution_count": 2,
   "id": "fa981f3f-a2f0-4294-9039-4816b6e970cd",
   "metadata": {},
   "outputs": [],
   "source": [
    "import os\n",
    "import alpaca_trade_api as tradeapi\n",
    "from dotenv import load_dotenv\n",
    "import numpy as np\n",
    "import pandas as pd\n",
    "import tkinter as tk"
   ]
  },
  {
   "cell_type": "code",
   "execution_count": 3,
   "id": "53885d22-220c-49ff-ba64-2845949a53bf",
   "metadata": {},
   "outputs": [
    {
     "data": {
      "text/plain": [
       "True"
      ]
     },
     "execution_count": 3,
     "metadata": {},
     "output_type": "execute_result"
    }
   ],
   "source": [
    "load_dotenv()"
   ]
  },
  {
   "cell_type": "code",
   "execution_count": 4,
   "id": "fa213564-3a56-4dea-9a29-9182bdeb8928",
   "metadata": {},
   "outputs": [],
   "source": [
    "# Set Alpaca API key and secret\n",
    "alpaca_api_key = os.getenv(\"ALPACA_API_KEY\")\n",
    "alpaca_secret_key = os.getenv(\"ALPACA_SECRET_KEY\")\n",
    "base_url = os.getenv(\"BASE_URL\")"
   ]
  },
  {
   "cell_type": "code",
   "execution_count": 6,
   "id": "8d412d70-33f9-4a04-8150-f7895a20a07b",
   "metadata": {},
   "outputs": [],
   "source": [
    "# Create the Alpaca API object\n",
    "api = tradeapi.REST(\n",
    "    alpaca_api_key,\n",
    "    alpaca_secret_key,\n",
    "    base_url,\n",
    "    api_version=\"v2\"\n",
    ")"
   ]
  },
  {
   "cell_type": "code",
   "execution_count": 7,
   "id": "569430a3-6332-42f6-bf6c-2079e255cd27",
   "metadata": {},
   "outputs": [],
   "source": [
    "# Define the stock tickers\n",
    "tickers = ['PANW', 'LRCX', 'AAPL', 'AMZN', 'MSFT', 'TSLA', 'CAT', 'DE']"
   ]
  },
  {
   "cell_type": "code",
   "execution_count": 8,
   "id": "228b9afb-1491-4a7f-a615-4327a6bf8a20",
   "metadata": {},
   "outputs": [],
   "source": [
    "# Define the window periods for the EMAs\n",
    "short_window = 13\n",
    "middle_window = 20\n",
    "long_window = 100"
   ]
  },
  {
   "cell_type": "code",
   "execution_count": 12,
   "id": "2f3bf3bb-fea8-4d6b-8548-da5ad063959a",
   "metadata": {},
   "outputs": [],
   "source": [
    "# Retrieve historical price data\n",
    "barset = api.get_bars(tickers, '1Day', limit=long_window)"
   ]
  },
  {
   "cell_type": "code",
   "execution_count": null,
   "id": "f72dc95c-200e-4c8c-9a59-03b164ccf7b5",
   "metadata": {},
   "outputs": [],
   "source": [
    "# Calculate EMAs for each stock\n",
    "ema_data = {}\n",
    "for ticker in tickers:\n",
    "    close_prices = [bar.c for bar in barset[ticker]]\n",
    "    ema_short = np.convolve(close_prices, np.ones(short_window) / short_window, mode='valid')\n",
    "    ema_middle = np.convolve(close_prices, np.ones(middle_window) / middle_window, mode='valid')\n",
    "    ema_long = np.convolve(close_prices, np.ones(long_window) / long_window, mode='valid')\n",
    "    ema_data[ticker] = {'short': ema_short, 'middle': ema_middle, 'long': ema_long}"
   ]
  },
  {
   "cell_type": "code",
   "execution_count": null,
   "id": "19a70641-dc40-4cd7-93fd-517a46e4a173",
   "metadata": {},
   "outputs": [],
   "source": [
    "# Trading strategy\n",
    "def execute_trades():\n",
    "    for ticker in tickers:\n",
    "        current_price = barset[ticker][-1].c\n",
    "        ema_short = ema_data[ticker]['short'][-1]\n",
    "        ema_middle = ema_data[ticker]['middle'][-1]\n",
    "        ema_long = ema_data[ticker]['long'][-1]\n",
    "\n",
    "        if ema_short > ema_middle and ema_middle > ema_long:\n",
    "            # Place buy order\n",
    "            api.submit_order(\n",
    "                symbol=ticker,\n",
    "                qty=1,  # Adjust quantity as desired\n",
    "                side='buy',\n",
    "                type='market',\n",
    "                time_in_force='gtc'\n",
    "            )\n",
    "            log_text.insert(tk.END, f\"Buy order placed for {ticker} at {current_price}\\n\")\n",
    "        elif ema_short < ema_middle and ema_middle < ema_long:\n",
    "            # Place sell order\n",
    "            api.submit_order(\n",
    "                symbol=ticker,\n",
    "                qty=1,  # Adjust quantity as desired\n",
    "                side='sell',\n",
    "                type='market',\n",
    "                time_in_force='gtc'\n",
    "            )\n",
    "            log_text.insert(tk.END, f\"Sell order placed for {ticker} at {current_price}\\n\")"
   ]
  },
  {
   "cell_type": "code",
   "execution_count": null,
   "id": "087df675-a60d-4ad6-a594-8119ad261cf5",
   "metadata": {},
   "outputs": [],
   "source": [
    "# GUI interface using Tkinter\n",
    "root = tk.Tk()\n",
    "root.title(\"Trading Bot Interface\")"
   ]
  },
  {
   "cell_type": "code",
   "execution_count": null,
   "id": "309664cf-7d72-4f57-97af-945b976c7190",
   "metadata": {},
   "outputs": [],
   "source": [
    "# Log text area\n",
    "log_text = tk.Text(root, height=10, width=50)\n",
    "log_text.pack()"
   ]
  },
  {
   "cell_type": "code",
   "execution_count": null,
   "id": "1777488e-f334-4cc4-8d8c-d3aadbd27d70",
   "metadata": {},
   "outputs": [],
   "source": [
    "# Execute trades button\n",
    "execute_button = tk.Button(root, text=\"Execute Trades\", command=execute_trades)\n",
    "execute_button.pack()\n",
    "\n",
    "root.mainloop()"
   ]
  }
 ],
 "metadata": {
  "kernelspec": {
   "display_name": "Python 3 (ipykernel)",
   "language": "python",
   "name": "python3"
  },
  "language_info": {
   "codemirror_mode": {
    "name": "ipython",
    "version": 3
   },
   "file_extension": ".py",
   "mimetype": "text/x-python",
   "name": "python",
   "nbconvert_exporter": "python",
   "pygments_lexer": "ipython3",
   "version": "3.7.13"
  }
 },
 "nbformat": 4,
 "nbformat_minor": 5
}
