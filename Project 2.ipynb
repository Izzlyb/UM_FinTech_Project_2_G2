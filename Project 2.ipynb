{
 "cells": [
  {
   "cell_type": "code",
   "execution_count": 97,
   "id": "f270eea6-38e5-4b58-ba12-2120bcdd979e",
   "metadata": {},
   "outputs": [],
   "source": [
    "import os\n",
    "\n",
    "import requests\n",
    "import pandas as pd\n",
    "from dotenv import load_dotenv\n",
    "import alpaca_trade_api as tradeapi\n",
    "import datetime\n",
    "import numpy as np\n",
    "import yfinance as yf\n",
    "from scipy.stats import norm\n",
    "import matplotlib.pyplot as plt\n",
    "import cerebro\n",
    "import backtrader as bt\n",
    "from datetime import datetime\n",
    "%matplotlib inline"
   ]
  },
  {
   "cell_type": "code",
   "execution_count": 98,
   "id": "66f1b3a8-6722-4c0c-8907-2c337747b4ef",
   "metadata": {},
   "outputs": [],
   "source": [
    "from backtesting import Backtest, Strategy\n",
    "from backtesting.lib import crossover\n",
    "import alpaca_trade_api\n",
    "import backtrader as b\n",
    "from backtesting.test import SMA, GOOG"
   ]
  },
  {
   "cell_type": "code",
   "execution_count": 99,
   "id": "08e33569-f503-4950-94b8-ce634fbcb7a8",
   "metadata": {},
   "outputs": [
    {
     "data": {
      "text/plain": [
       "True"
      ]
     },
     "execution_count": 99,
     "metadata": {},
     "output_type": "execute_result"
    }
   ],
   "source": [
    "load_dotenv(\".env\")"
   ]
  },
  {
   "cell_type": "code",
   "execution_count": 100,
   "id": "eb3c60ec-fe87-4e74-a261-993d5a569fd1",
   "metadata": {},
   "outputs": [],
   "source": [
    "alpaca_api_key = os.getenv(\"ALPACA_API_KEY\")\n",
    "alpaca_secret_key = os.getenv(\"ALPACA_SECRET_KEY\")\n",
    "alpaca_endpoint = os.getenv(\"alpaca_endpoint\")\n",
    "\n",
    "alpaca = tradeapi.REST(\n",
    "    alpaca_api_key,\n",
    "    alpaca_secret_key,\n",
    "    api_version=\"v2\",\n",
    "    base_url = alpaca_endpoint)"
   ]
  },
  {
   "cell_type": "code",
   "execution_count": 101,
   "id": "0acdffee-4ea9-4615-ab01-1812a30f449c",
   "metadata": {},
   "outputs": [],
   "source": [
    "api = tradeapi.REST(alpaca_api_key, alpaca_secret_key, alpaca_endpoint)"
   ]
  },
  {
   "cell_type": "code",
   "execution_count": 102,
   "id": "ca05af87-b71a-4a7f-8234-3f02ab092d54",
   "metadata": {},
   "outputs": [],
   "source": [
    "from backtesting import Backtest, Strategy\n",
    "from backtesting.lib import crossover\n",
    "\n",
    "class SMACrossover(Strategy):\n",
    "    def init(self):\n",
    "        self.sma1 = self.I(SMA, self.data.Close, 13)\n",
    "        self.sma2 = self.I(SMA, self.data.Close, 30)\n",
    "        self.sma3 = self.I(SMA, self.data.Close, 100)  # 20-period SMA\n",
    "\n",
    "    def next(self):\n",
    "        if crossover(self.sma1, self.sma2, self.sma3):\n",
    "            self.buy()\n",
    "        elif crossover(self.sma3, self.sma2, self.sma1):\n",
    "            self.sell()\n"
   ]
  },
  {
   "cell_type": "code",
   "execution_count": 103,
   "id": "265743b1-5999-45cc-9275-38aba4390265",
   "metadata": {},
   "outputs": [
    {
     "ename": "AttributeError",
     "evalue": "module 'alpaca_trade_api' has no attribute 'AlpacaData'",
     "output_type": "error",
     "traceback": [
      "\u001b[1;31m---------------------------------------------------------------------------\u001b[0m",
      "\u001b[1;31mAttributeError\u001b[0m                            Traceback (most recent call last)",
      "Cell \u001b[1;32mIn[103], line 1\u001b[0m\n\u001b[1;32m----> 1\u001b[0m data \u001b[38;5;241m=\u001b[39m \u001b[43malpaca_trade_api\u001b[49m\u001b[38;5;241;43m.\u001b[39;49m\u001b[43mAlpacaData\u001b[49m(\n\u001b[0;32m      2\u001b[0m     dataname\u001b[38;5;241m=\u001b[39m\u001b[38;5;124m'\u001b[39m\u001b[38;5;124mNVDA\u001b[39m\u001b[38;5;124m'\u001b[39m,  \u001b[38;5;66;03m# Ticker symbol for the desired stock\u001b[39;00m\n\u001b[0;32m      3\u001b[0m     historical\u001b[38;5;241m=\u001b[39m\u001b[38;5;28;01mTrue\u001b[39;00m,\n\u001b[0;32m      4\u001b[0m     fromdate\u001b[38;5;241m=\u001b[39mdatetime(\u001b[38;5;241m2022\u001b[39m, \u001b[38;5;241m1\u001b[39m, \u001b[38;5;241m1\u001b[39m),  \u001b[38;5;66;03m# Start date for historical data\u001b[39;00m\n\u001b[0;32m      5\u001b[0m     todate\u001b[38;5;241m=\u001b[39mdatetime(\u001b[38;5;241m2022\u001b[39m, \u001b[38;5;241m12\u001b[39m, \u001b[38;5;241m31\u001b[39m),  \u001b[38;5;66;03m# End date for historical data\u001b[39;00m\n\u001b[0;32m      6\u001b[0m     apikey\u001b[38;5;241m=\u001b[39malpaca_api_key,\n\u001b[0;32m      7\u001b[0m     secretkey\u001b[38;5;241m=\u001b[39malpaca_secret_key,\n\u001b[0;32m      8\u001b[0m     endpoint\u001b[38;5;241m=\u001b[39malpaca_endpoint,\n\u001b[0;32m      9\u001b[0m     timeframe\u001b[38;5;241m=\u001b[39mbacktesting\u001b[38;5;241m.\u001b[39mTimeFrame\u001b[38;5;241m.\u001b[39mDays  \u001b[38;5;66;03m# Use daily timeframe for the example\u001b[39;00m\n\u001b[0;32m     10\u001b[0m )\n",
      "\u001b[1;31mAttributeError\u001b[0m: module 'alpaca_trade_api' has no attribute 'AlpacaData'"
     ]
    }
   ],
   "source": [
    "data = alpaca_trade_api.AlpacaData(\n",
    "    dataname='NVDA',  # Ticker symbol for the desired stock\n",
    "    historical=True,\n",
    "    fromdate=datetime(2022, 1, 1),  # Start date for historical data\n",
    "    todate=datetime(2022, 12, 31),  # End date for historical data\n",
    "    apikey=alpaca_api_key,\n",
    "    secretkey=alpaca_secret_key,\n",
    "    endpoint=alpaca_endpoint,\n",
    "    timeframe=backtesting.TimeFrame.Days  # Use daily timeframe for the example\n",
    ")\n"
   ]
  },
  {
   "cell_type": "code",
   "execution_count": null,
   "id": "f8d3d3bf-2fe0-4cb0-8bac-40e92ce22a64",
   "metadata": {},
   "outputs": [],
   "source": []
  },
  {
   "cell_type": "code",
   "execution_count": 104,
   "id": "9bf83744-e988-4057-a659-514802b155e1",
   "metadata": {},
   "outputs": [],
   "source": [
    "class SMACrossover(bt.Strategy):\n",
    "    params = (\n",
    "        ('sma1_period', 10),  # Period for the first SMA\n",
    "        ('sma2_period', 20)   # Period for the second SMA\n",
    "    )\n",
    "\n",
    "    def __init__(self):\n",
    "        self.sma1 = bt.indicators.SimpleMovingAverage(\n",
    "            self.data.close, period=self.params.sma1_period\n",
    "        )\n",
    "        self.sma2 = bt.indicators.SimpleMovingAverage(\n",
    "            self.data.close, period=self.params.sma2_period\n",
    "        )\n",
    "\n",
    "    def next(self):\n",
    "        if self.sma1 > self.sma2:  # SMA1 crosses above SMA2\n",
    "            self.buy()\n",
    "        elif self.sma1 < self.sma2:  # SMA1 crosses below SMA2\n",
    "            self.sell()\n"
   ]
  },
  {
   "cell_type": "code",
   "execution_count": 105,
   "id": "45caa268-9170-478a-8243-2da731cfb576",
   "metadata": {},
   "outputs": [
    {
     "data": {
      "text/plain": [
       "0"
      ]
     },
     "execution_count": 105,
     "metadata": {},
     "output_type": "execute_result"
    }
   ],
   "source": [
    "cerebro = bt.Cerebro()\n",
    "cerebro.addstrategy(SMACrossover)\n"
   ]
  },
  {
   "cell_type": "code",
   "execution_count": 92,
   "id": "4b0fd2a0-189f-4881-9f4b-663d763c7a88",
   "metadata": {},
   "outputs": [
    {
     "data": {
      "text/plain": [
       "<backtrader.feeds.yahoo.YahooFinanceData at 0x1f3c1a32a10>"
      ]
     },
     "execution_count": 92,
     "metadata": {},
     "output_type": "execute_result"
    }
   ],
   "source": [
    "data = bt.feeds.YahooFinanceData(\n",
    "    dataname='AAPL',  # Ticker symbol for Apple\n",
    "    fromdate=datetime(2019, 1, 1),  # Start date for historical data\n",
    "    todate=datetime(2022, 12, 31)  # End date for historical data\n",
    ")\n",
    "cerebro.adddata(data)\n"
   ]
  },
  {
   "cell_type": "code",
   "execution_count": 93,
   "id": "4d2dc6f3-7f48-4114-993d-76f7b8c1548e",
   "metadata": {},
   "outputs": [],
   "source": [
    "cerebro.broker.setcash(100000.0)  # Set an initial capital of $100,000\n",
    "cerebro.broker.setcommission(commission=0.001)  # Set the commission rate\n"
   ]
  },
  {
   "cell_type": "code",
   "execution_count": 94,
   "id": "38e5defa-51b5-493d-8f88-8cc4199dbaa3",
   "metadata": {},
   "outputs": [
    {
     "ename": "FileNotFoundError",
     "evalue": "[Errno 2] No such file or directory: 'AAPL'",
     "output_type": "error",
     "traceback": [
      "\u001b[1;31m---------------------------------------------------------------------------\u001b[0m",
      "\u001b[1;31mFileNotFoundError\u001b[0m                         Traceback (most recent call last)",
      "Cell \u001b[1;32mIn[94], line 1\u001b[0m\n\u001b[1;32m----> 1\u001b[0m \u001b[43mcerebro\u001b[49m\u001b[38;5;241;43m.\u001b[39;49m\u001b[43mrun\u001b[49m\u001b[43m(\u001b[49m\u001b[43m)\u001b[49m\n",
      "File \u001b[1;32m~\\anaconda3\\envs\\dev\\Lib\\site-packages\\backtrader\\cerebro.py:1132\u001b[0m, in \u001b[0;36mCerebro.run\u001b[1;34m(self, **kwargs)\u001b[0m\n\u001b[0;32m   1128\u001b[0m \u001b[38;5;28;01mif\u001b[39;00m \u001b[38;5;129;01mnot\u001b[39;00m \u001b[38;5;28mself\u001b[39m\u001b[38;5;241m.\u001b[39m_dooptimize \u001b[38;5;129;01mor\u001b[39;00m \u001b[38;5;28mself\u001b[39m\u001b[38;5;241m.\u001b[39mp\u001b[38;5;241m.\u001b[39mmaxcpus \u001b[38;5;241m==\u001b[39m \u001b[38;5;241m1\u001b[39m:\n\u001b[0;32m   1129\u001b[0m     \u001b[38;5;66;03m# If no optimmization is wished ... or 1 core is to be used\u001b[39;00m\n\u001b[0;32m   1130\u001b[0m     \u001b[38;5;66;03m# let's skip process \"spawning\"\u001b[39;00m\n\u001b[0;32m   1131\u001b[0m     \u001b[38;5;28;01mfor\u001b[39;00m iterstrat \u001b[38;5;129;01min\u001b[39;00m iterstrats:\n\u001b[1;32m-> 1132\u001b[0m         runstrat \u001b[38;5;241m=\u001b[39m \u001b[38;5;28;43mself\u001b[39;49m\u001b[38;5;241;43m.\u001b[39;49m\u001b[43mrunstrategies\u001b[49m\u001b[43m(\u001b[49m\u001b[43miterstrat\u001b[49m\u001b[43m)\u001b[49m\n\u001b[0;32m   1133\u001b[0m         \u001b[38;5;28mself\u001b[39m\u001b[38;5;241m.\u001b[39mrunstrats\u001b[38;5;241m.\u001b[39mappend(runstrat)\n\u001b[0;32m   1134\u001b[0m         \u001b[38;5;28;01mif\u001b[39;00m \u001b[38;5;28mself\u001b[39m\u001b[38;5;241m.\u001b[39m_dooptimize:\n",
      "File \u001b[1;32m~\\anaconda3\\envs\\dev\\Lib\\site-packages\\backtrader\\cerebro.py:1215\u001b[0m, in \u001b[0;36mCerebro.runstrategies\u001b[1;34m(self, iterstrat, predata)\u001b[0m\n\u001b[0;32m   1213\u001b[0m \u001b[38;5;28;01mif\u001b[39;00m \u001b[38;5;28mself\u001b[39m\u001b[38;5;241m.\u001b[39m_exactbars \u001b[38;5;241m<\u001b[39m \u001b[38;5;241m1\u001b[39m:  \u001b[38;5;66;03m# datas can be full length\u001b[39;00m\n\u001b[0;32m   1214\u001b[0m     data\u001b[38;5;241m.\u001b[39mextend(size\u001b[38;5;241m=\u001b[39m\u001b[38;5;28mself\u001b[39m\u001b[38;5;241m.\u001b[39mparams\u001b[38;5;241m.\u001b[39mlookahead)\n\u001b[1;32m-> 1215\u001b[0m \u001b[43mdata\u001b[49m\u001b[38;5;241;43m.\u001b[39;49m\u001b[43m_start\u001b[49m\u001b[43m(\u001b[49m\u001b[43m)\u001b[49m\n\u001b[0;32m   1216\u001b[0m \u001b[38;5;28;01mif\u001b[39;00m \u001b[38;5;28mself\u001b[39m\u001b[38;5;241m.\u001b[39m_dopreload:\n\u001b[0;32m   1217\u001b[0m     data\u001b[38;5;241m.\u001b[39mpreload()\n",
      "File \u001b[1;32m~\\anaconda3\\envs\\dev\\Lib\\site-packages\\backtrader\\feed.py:203\u001b[0m, in \u001b[0;36mAbstractDataBase._start\u001b[1;34m(self)\u001b[0m\n\u001b[0;32m    202\u001b[0m \u001b[38;5;28;01mdef\u001b[39;00m \u001b[38;5;21m_start\u001b[39m(\u001b[38;5;28mself\u001b[39m):\n\u001b[1;32m--> 203\u001b[0m     \u001b[38;5;28;43mself\u001b[39;49m\u001b[38;5;241;43m.\u001b[39;49m\u001b[43mstart\u001b[49m\u001b[43m(\u001b[49m\u001b[43m)\u001b[49m\n\u001b[0;32m    205\u001b[0m     \u001b[38;5;28;01mif\u001b[39;00m \u001b[38;5;129;01mnot\u001b[39;00m \u001b[38;5;28mself\u001b[39m\u001b[38;5;241m.\u001b[39m_started:\n\u001b[0;32m    206\u001b[0m         \u001b[38;5;28mself\u001b[39m\u001b[38;5;241m.\u001b[39m_start_finish()\n",
      "File \u001b[1;32m~\\anaconda3\\envs\\dev\\Lib\\site-packages\\backtrader\\feeds\\yahoo.py:356\u001b[0m, in \u001b[0;36mYahooFinanceData.start\u001b[1;34m(self)\u001b[0m\n\u001b[0;32m    353\u001b[0m \u001b[38;5;28mself\u001b[39m\u001b[38;5;241m.\u001b[39mstart_v7()\n\u001b[0;32m    355\u001b[0m \u001b[38;5;66;03m# Prepared a \"path\" file -  CSV Parser can take over\u001b[39;00m\n\u001b[1;32m--> 356\u001b[0m \u001b[38;5;28;43msuper\u001b[39;49m\u001b[43m(\u001b[49m\u001b[43mYahooFinanceData\u001b[49m\u001b[43m,\u001b[49m\u001b[43m \u001b[49m\u001b[38;5;28;43mself\u001b[39;49m\u001b[43m)\u001b[49m\u001b[38;5;241;43m.\u001b[39;49m\u001b[43mstart\u001b[49m\u001b[43m(\u001b[49m\u001b[43m)\u001b[49m\n",
      "File \u001b[1;32m~\\anaconda3\\envs\\dev\\Lib\\site-packages\\backtrader\\feeds\\yahoo.py:94\u001b[0m, in \u001b[0;36mYahooFinanceCSVData.start\u001b[1;34m(self)\u001b[0m\n\u001b[0;32m     93\u001b[0m \u001b[38;5;28;01mdef\u001b[39;00m \u001b[38;5;21mstart\u001b[39m(\u001b[38;5;28mself\u001b[39m):\n\u001b[1;32m---> 94\u001b[0m     \u001b[38;5;28;43msuper\u001b[39;49m\u001b[43m(\u001b[49m\u001b[43mYahooFinanceCSVData\u001b[49m\u001b[43m,\u001b[49m\u001b[43m \u001b[49m\u001b[38;5;28;43mself\u001b[39;49m\u001b[43m)\u001b[49m\u001b[38;5;241;43m.\u001b[39;49m\u001b[43mstart\u001b[49m\u001b[43m(\u001b[49m\u001b[43m)\u001b[49m\n\u001b[0;32m     96\u001b[0m     \u001b[38;5;28;01mif\u001b[39;00m \u001b[38;5;129;01mnot\u001b[39;00m \u001b[38;5;28mself\u001b[39m\u001b[38;5;241m.\u001b[39mparams\u001b[38;5;241m.\u001b[39mreverse:\n\u001b[0;32m     97\u001b[0m         \u001b[38;5;28;01mreturn\u001b[39;00m\n",
      "File \u001b[1;32m~\\anaconda3\\envs\\dev\\Lib\\site-packages\\backtrader\\feed.py:675\u001b[0m, in \u001b[0;36mCSVDataBase.start\u001b[1;34m(self)\u001b[0m\n\u001b[0;32m    672\u001b[0m         \u001b[38;5;28mself\u001b[39m\u001b[38;5;241m.\u001b[39mf \u001b[38;5;241m=\u001b[39m \u001b[38;5;28mself\u001b[39m\u001b[38;5;241m.\u001b[39mp\u001b[38;5;241m.\u001b[39mdataname\n\u001b[0;32m    673\u001b[0m     \u001b[38;5;28;01melse\u001b[39;00m:\n\u001b[0;32m    674\u001b[0m         \u001b[38;5;66;03m# Let an exception propagate to let the caller know\u001b[39;00m\n\u001b[1;32m--> 675\u001b[0m         \u001b[38;5;28mself\u001b[39m\u001b[38;5;241m.\u001b[39mf \u001b[38;5;241m=\u001b[39m \u001b[43mio\u001b[49m\u001b[38;5;241;43m.\u001b[39;49m\u001b[43mopen\u001b[49m\u001b[43m(\u001b[49m\u001b[38;5;28;43mself\u001b[39;49m\u001b[38;5;241;43m.\u001b[39;49m\u001b[43mp\u001b[49m\u001b[38;5;241;43m.\u001b[39;49m\u001b[43mdataname\u001b[49m\u001b[43m,\u001b[49m\u001b[43m \u001b[49m\u001b[38;5;124;43m'\u001b[39;49m\u001b[38;5;124;43mr\u001b[39;49m\u001b[38;5;124;43m'\u001b[39;49m\u001b[43m)\u001b[49m\n\u001b[0;32m    677\u001b[0m \u001b[38;5;28;01mif\u001b[39;00m \u001b[38;5;28mself\u001b[39m\u001b[38;5;241m.\u001b[39mp\u001b[38;5;241m.\u001b[39mheaders:\n\u001b[0;32m    678\u001b[0m     \u001b[38;5;28mself\u001b[39m\u001b[38;5;241m.\u001b[39mf\u001b[38;5;241m.\u001b[39mreadline()  \u001b[38;5;66;03m# skip the headers\u001b[39;00m\n",
      "\u001b[1;31mFileNotFoundError\u001b[0m: [Errno 2] No such file or directory: 'AAPL'"
     ]
    }
   ],
   "source": [
    "cerebro.run()"
   ]
  },
  {
   "cell_type": "code",
   "execution_count": null,
   "id": "c9bcdc9c-b481-4f17-a43e-628cd97dabd3",
   "metadata": {},
   "outputs": [],
   "source": [
    "cerebro.plot()  # Plot the backtest results\n"
   ]
  },
  {
   "cell_type": "code",
   "execution_count": 106,
   "id": "c2ec0be6-80e5-4014-8191-9f46efa5de6a",
   "metadata": {},
   "outputs": [
    {
     "name": "stdout",
     "output_type": "stream",
     "text": [
      "Requirement already satisfied: backtrader in c:\\users\\ricky\\anaconda3\\envs\\dev\\lib\\site-packages (1.9.78.123)\n",
      "Note: you may need to restart the kernel to use updated packages.\n"
     ]
    }
   ],
   "source": [
    "pip install backtrader"
   ]
  },
  {
   "cell_type": "code",
   "execution_count": 107,
   "id": "b1f12a4d-5e9c-403a-9e39-4f0895ae48b6",
   "metadata": {},
   "outputs": [],
   "source": [
    "import backtrader as bt\n",
    "import backtrader.feeds as btfeeds"
   ]
  },
  {
   "cell_type": "code",
   "execution_count": 108,
   "id": "fb1f8b35-8b2c-4c03-9ab1-c1dd2d0f229a",
   "metadata": {},
   "outputs": [],
   "source": [
    "class BuyAndHold(bt.Strategy):\n",
    "    def __init__(self):\n",
    "        pass\n",
    "\n",
    "    def next(self):\n",
    "        if self.position.size == 0:  # If not in the market\n",
    "            self.buy()\n"
   ]
  },
  {
   "cell_type": "code",
   "execution_count": 109,
   "id": "1076ecfa-2060-494c-9d45-1bb8128c3970",
   "metadata": {},
   "outputs": [
    {
     "ename": "AttributeError",
     "evalue": "type object 'datetime.datetime' has no attribute 'datetime'",
     "output_type": "error",
     "traceback": [
      "\u001b[1;31m---------------------------------------------------------------------------\u001b[0m",
      "\u001b[1;31mAttributeError\u001b[0m                            Traceback (most recent call last)",
      "Cell \u001b[1;32mIn[109], line 3\u001b[0m\n\u001b[0;32m      1\u001b[0m data \u001b[38;5;241m=\u001b[39m btfeeds\u001b[38;5;241m.\u001b[39mYahooFinanceData(\n\u001b[0;32m      2\u001b[0m     dataname\u001b[38;5;241m=\u001b[39m\u001b[38;5;124m'\u001b[39m\u001b[38;5;124mAAPL\u001b[39m\u001b[38;5;124m'\u001b[39m,\n\u001b[1;32m----> 3\u001b[0m     fromdate\u001b[38;5;241m=\u001b[39m\u001b[43mdatetime\u001b[49m\u001b[38;5;241;43m.\u001b[39;49m\u001b[43mdatetime\u001b[49m(\u001b[38;5;241m2010\u001b[39m, \u001b[38;5;241m1\u001b[39m, \u001b[38;5;241m1\u001b[39m),\n\u001b[0;32m      4\u001b[0m     todate\u001b[38;5;241m=\u001b[39mdatetime\u001b[38;5;241m.\u001b[39mdatetime(\u001b[38;5;241m2020\u001b[39m, \u001b[38;5;241m12\u001b[39m, \u001b[38;5;241m31\u001b[39m),\n\u001b[0;32m      5\u001b[0m     buffered\u001b[38;5;241m=\u001b[39m\u001b[38;5;28;01mTrue\u001b[39;00m\n\u001b[0;32m      6\u001b[0m )\n",
      "\u001b[1;31mAttributeError\u001b[0m: type object 'datetime.datetime' has no attribute 'datetime'"
     ]
    }
   ],
   "source": [
    "data = btfeeds.YahooFinanceData(\n",
    "    dataname='AAPL',\n",
    "    fromdate=datetime.datetime(2010, 1, 1),\n",
    "    todate=datetime.datetime(2020, 12, 31),\n",
    "    buffered=True\n",
    ")\n"
   ]
  },
  {
   "cell_type": "code",
   "execution_count": null,
   "id": "67588288-b023-4a31-9374-13cfb47c9aa8",
   "metadata": {},
   "outputs": [],
   "source": []
  }
 ],
 "metadata": {
  "kernelspec": {
   "display_name": "Python 3 (ipykernel)",
   "language": "python",
   "name": "python3"
  },
  "language_info": {
   "codemirror_mode": {
    "name": "ipython",
    "version": 3
   },
   "file_extension": ".py",
   "mimetype": "text/x-python",
   "name": "python",
   "nbconvert_exporter": "python",
   "pygments_lexer": "ipython3",
   "version": "3.11.2"
  }
 },
 "nbformat": 4,
 "nbformat_minor": 5
}
